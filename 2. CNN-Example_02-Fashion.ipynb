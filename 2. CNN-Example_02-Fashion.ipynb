{
 "cells": [
  {
   "cell_type": "markdown",
   "metadata": {},
   "source": [
    "<b><h1><center>Convolution Neural Network (using Dataset = MNIST Fashion)"
   ]
  },
  {
   "cell_type": "markdown",
   "metadata": {},
   "source": [
    "This tutorial is about implementing a Convolutional Neural Network using TensorFlow.\n",
    "\n",
    "In Convolutional Networks, small filters are moved across the input images. These filters are re-used to recognize pattern in the entire input image. This property of recognizing patterns in the images using filters make Convolutional Networks more powerful, faster and accurate as compared to the Fully Connected Networks with the same number of variables.\n",
    "\n",
    "The pre-requisites for this tutorial include basic know ledge of Linear Algebra, Convolutional Neural Networks and Layers, Python programming language and Jupyter Notebook editor.\n",
    "\n",
    "The tutorial consists of 2 Convolutional Layers. 16 filters are apllied on the 1st layer and 36 filters are applied on the 2nd layer. Filters process the images using filter-weights. The output of the 2nd Convoluational Layer is then flattened and fed as an input to a Fully Connected Layer of 128 Neurons. In the end, the output generated from this Fully Connected Layer is then fed to another Fully Connected Layer of 10 Neurons (each of the 10 Neurons representing a separate class).\n",
    "\n",
    "Cross-Entropy is used to measure the error between the predicted and real class of each image. The error is then propagated back to the Neural Network via the Optimizer. This updates the filter-weights in order to improve the classification error. A number of iterations are performed to minimize the classification error.\n",
    "\n",
    "To make the computation more efficient, the computation in TensorFlow is done on a batch of images instead of a single image."
   ]
  },
  {
   "cell_type": "markdown",
   "metadata": {},
   "source": [
    "<b><h2>Importing Libraries"
   ]
  },
  {
   "cell_type": "markdown",
   "metadata": {},
   "source": [
    "Following are the libraries that will be used for the entire tutorial."
   ]
  },
  {
   "cell_type": "code",
   "execution_count": 1,
   "metadata": {},
   "outputs": [],
   "source": [
    "%matplotlib inline\n",
    "import matplotlib.pyplot as plt\n",
    "import tensorflow as tf\n",
    "import numpy as np\n",
    "from sklearn.metrics import confusion_matrix\n",
    "import time\n",
    "import math\n",
    "from datetime import timedelta"
   ]
  },
  {
   "cell_type": "markdown",
   "metadata": {},
   "source": [
    "<b><h2>Importing Data"
   ]
  },
  {
   "cell_type": "markdown",
   "metadata": {},
   "source": [
    "The data set used for the tutorial is MNIST dataset that consists of 10 different types of fashion products. That means the dataset has 10 different classes. The dataset can be downloaded and loaded automatically or can also be loaded manually by downloading the dataset from an online source."
   ]
  },
  {
   "cell_type": "code",
   "execution_count": 2,
   "metadata": {},
   "outputs": [
    {
     "name": "stdout",
     "output_type": "stream",
     "text": [
      "Extracting data/fashion/train-images-idx3-ubyte.gz\n",
      "Extracting data/fashion/train-labels-idx1-ubyte.gz\n",
      "Extracting data/fashion/t10k-images-idx3-ubyte.gz\n",
      "Extracting data/fashion/t10k-labels-idx1-ubyte.gz\n"
     ]
    }
   ],
   "source": [
    "from tensorflow.examples.tutorials.mnist import input_data\n",
    "data = input_data.read_data_sets('data/fashion/', one_hot=True)"
   ]
  },
  {
   "cell_type": "markdown",
   "metadata": {},
   "source": [
    "The dataset consists of 70,000 images with associated labels (class of each image as a numerical entity). The entire dataset is already divided into 3 division sets; Training, Testing and Valadating datasets. In this tutorial, only the Training and Testing dataset divisions will be used."
   ]
  },
  {
   "cell_type": "code",
   "execution_count": 3,
   "metadata": {},
   "outputs": [
    {
     "name": "stdout",
     "output_type": "stream",
     "text": [
      "Size of:\n",
      "Training Sets:\t\t55000\n",
      "Test Sets:\t\t10000\n",
      "Validation Sets:\t5000\n"
     ]
    }
   ],
   "source": [
    "print(\"Size of:\")\n",
    "print(\"Training Sets:\\t\\t{}\".format(len(data.train.labels)))\n",
    "print(\"Test Sets:\\t\\t{}\".format(len(data.test.labels)))\n",
    "print(\"Validation Sets:\\t{}\".format(len(data.validation.labels)))"
   ]
  },
  {
   "cell_type": "markdown",
   "metadata": {},
   "source": [
    "Each class-label is a vector of 10 elements. This means that, the labels that represent the class of each image are One-Hot encoded. One-hot encoding refers to the fact that the 10 elements of the vector are all zero except for 1 whose index is the class-number of the associated image.\n",
    "\n",
    "The class number of each image of the test set will also be needed in this tutorial which is calculated as follows."
   ]
  },
  {
   "cell_type": "code",
   "execution_count": 4,
   "metadata": {},
   "outputs": [],
   "source": [
    "class_number = np.argmax(data.test.labels, axis=1)"
   ]
  },
  {
   "cell_type": "markdown",
   "metadata": {},
   "source": [
    "<b><h2>Data Dimensions"
   ]
  },
  {
   "cell_type": "markdown",
   "metadata": {},
   "source": [
    "The data dimensions are defined once that can be used further using their variable names."
   ]
  },
  {
   "cell_type": "code",
   "execution_count": 5,
   "metadata": {},
   "outputs": [],
   "source": [
    "# Size of each image (Dataset images are of 28×28 pixels)\n",
    "size_of_image = 28\n",
    "\n",
    "#Size of each image after it is flattened to feed the Fully-Connected Layer\n",
    "size_of_image_flattened = size_of_image * size_of_image\n",
    "\n",
    "#Shape of each image\n",
    "shape_of_image = (size_of_image, size_of_image)\n",
    "\n",
    "#Number of Classes (Dataset has 10 classes)\n",
    "nc = 10\n",
    "\n",
    "#Number of Color Channels (Ddataset has only 1 color channels: gray-scale)\n",
    "nch = 1"
   ]
  },
  {
   "cell_type": "markdown",
   "metadata": {},
   "source": [
    "<b><h2>Helper Function for Class Names"
   ]
  },
  {
   "cell_type": "markdown",
   "metadata": {},
   "source": [
    "Since the associated labels (classes) of the dataset is in numeric form, below is a function that will help to display class names instead of the associated class number of each image."
   ]
  },
  {
   "cell_type": "code",
   "execution_count": 6,
   "metadata": {},
   "outputs": [],
   "source": [
    "def names_of_products(classes=None):\n",
    "    if classes==0:\n",
    "        z='T-shirt/top'\n",
    "    elif classes==1:\n",
    "        z='Trouser'\n",
    "    elif classes==2:\n",
    "        z='Pullover'\n",
    "    elif classes==3:\n",
    "        z='Dress'\n",
    "    elif classes==4:\n",
    "        z='Coat'\n",
    "    elif classes==5:\n",
    "        z='Sandal'\n",
    "    elif classes==6:\n",
    "        z='Shirt'\n",
    "    elif classes==7:\n",
    "        z='Sneaker'\n",
    "    elif classes==8:\n",
    "        z='Bag'\n",
    "    else:\n",
    "        z='Ankel boot'\n",
    "    return z"
   ]
  },
  {
   "cell_type": "markdown",
   "metadata": {},
   "source": [
    "<b><h2>Helper Function to Plot Images"
   ]
  },
  {
   "cell_type": "markdown",
   "metadata": {},
   "source": [
    "This is a function that will be called to plot 9 images in a grid of 3×3. The real and predicted class of each image will also be shown below that particular image."
   ]
  },
  {
   "cell_type": "code",
   "execution_count": 7,
   "metadata": {},
   "outputs": [],
   "source": [
    "def plot_images(images, real_class, predicted_class=None):\n",
    "    assert len(images) == len(real_class) == 9\n",
    "    \n",
    "    fig, axes = plt.subplots(3, 3)\n",
    "    fig.subplots_adjust(hspace=2, wspace=2)\n",
    "\n",
    "    for i, ax in enumerate(axes.flat):\n",
    "        \n",
    "        ax.imshow(images[i].reshape(shape_of_image), cmap='binary')\n",
    "\n",
    "        if predicted_class is None:\n",
    "            true_classname = names_of_products(classes=real_class[i])\n",
    "            xlabel = \"True: {0}\".format(true_classname)\n",
    "        else:\n",
    "            true_classname = names_of_products(classes=real_class[i])\n",
    "            pred_classname = names_of_products(classes=predicted_class[i])\n",
    "            xlabel = \"True: {0}, Pred: {1}\".format(true_classname, pred_classname)\n",
    "\n",
    "        ax.set_xlabel(xlabel)\n",
    "        \n",
    "        ax.set_xticks([])\n",
    "        ax.set_yticks([])\n",
    "    \n",
    "    plt.show()"
   ]
  },
  {
   "cell_type": "markdown",
   "metadata": {},
   "source": [
    "<b><h2>Checking and Plotting Real Classes of a few Images"
   ]
  },
  {
   "cell_type": "code",
   "execution_count": 8,
   "metadata": {},
   "outputs": [
    {
     "data": {
      "image/png": "[encoded data removed]",
      "text/plain": [
       "<Figure size 432x288 with 9 Axes>"
      ]
     },
     "metadata": {},
     "output_type": "display_data"
    }
   ],
   "source": [
    "images = data.test.images[0:9]\n",
    "real_class = class_number[0:9]\n",
    "plot_images(images=images, real_class=real_class)"
   ]
  },
  {
   "cell_type": "markdown",
   "metadata": {},
   "source": [
    "<b><h2>TensorFlow Graph"
   ]
  },
  {
   "cell_type": "markdown",
   "metadata": {},
   "source": [
    "The purpose of using TensorFlow is to have a computational graph for efficient execution. This is far better than the calculations performed directly in Python.\n",
    "\n",
    "For better model performance, TensorFlow automatically calculates the gradients that are required to optimize the graph variables.\n",
    "\n",
    "A TensorFlow graph consists of:\n",
    "-  Placeholder Variables to input the data later on.\n",
    "-  Variables that are to be optimized.\n",
    "-  Mathematical Formulas and Calculations.\n",
    "-  A Cost Measure for Optimization.\n",
    "-  An Optimization Method to update Variables."
   ]
  },
  {
   "cell_type": "markdown",
   "metadata": {},
   "source": [
    "<b><h2>Helper Functions to Create Variables"
   ]
  },
  {
   "cell_type": "markdown",
   "metadata": {},
   "source": [
    "Below are two helper functions that create TensorFlow variables of a particular given shape and are initialized randomly."
   ]
  },
  {
   "cell_type": "code",
   "execution_count": 9,
   "metadata": {},
   "outputs": [],
   "source": [
    "def new_weights(shape):\n",
    "    return tf.Variable(tf.truncated_normal(shape, stddev=0.05))\n",
    "def new_biases(length):\n",
    "    return tf.Variable(tf.constant(0.05, shape=[length]))"
   ]
  },
  {
   "cell_type": "markdown",
   "metadata": {},
   "source": [
    "<b><h2>Helper Function to Create a Convolutional Layer"
   ]
  },
  {
   "cell_type": "markdown",
   "metadata": {},
   "source": [
    "Below is the function that can be called to create a Convolutional Layer in the Convolutional Graph of the TensorFlow.\n",
    "\n",
    "The input is assumed to be a 4-dim tensor with the following dimensions:\n",
    "-  Number of Images.\n",
    "-  Y-Axis of each image.\n",
    "-  X-Axis of each image.\n",
    "-  Number of Channels of the Image.\n",
    "\n",
    "The Number of Channels of the Image can either be Color-Channels or Filter-Channels. For the 1st layer, the channels will be color-channels but if the output of a previous convolutional layer is being used as an input in the current convolutional layer, then the channels ill be filter channels.\n",
    "\n",
    "The output of the image is then also a 4-dim tensor with the following dimensions.\n",
    "-  Number of Images. (Same as input)\n",
    "-  Y-Axis of each image. (If 2×2 Pooling is used, then the height and width of images are divided by 2)\n",
    "-  X-Axis of each image. (Same as input)\n",
    "-  Number of Channels of the Image. (As produced by the Convolutional Filters)"
   ]
  },
  {
   "cell_type": "code",
   "execution_count": 10,
   "metadata": {},
   "outputs": [],
   "source": [
    "def new_conv_layer(input,                # Data (for first layer) else the previous layer\n",
    "                   number_of_channels,   # Number of color-channels for 1st layer else channels of previous layer\n",
    "                   size_of_filter,       # Width and Height of filter\n",
    "                   number_of_filters,    # Number of filters to be applied\n",
    "                   use_pooling=True):    # Max-Pooling of 2×2\n",
    "    \n",
    "    #Convolutional Filter-Weights shape (Format determined by TensorFlow API)\n",
    "    shape = [size_of_filter, size_of_filter, number_of_channels, number_of_filters]\n",
    "    \n",
    "    #Creating filter-weights with the given shape by calling helper function\n",
    "    weights = new_weights(shape=shape)\n",
    "    \n",
    "    #Creating biases for each filter by calling helper function\n",
    "    biases = new_biases(length=number_of_filters)\n",
    "    \n",
    "    #Using TensorFlow operation for convolution with stride 1.\n",
    "    #Also keeping same padding that means padding input with zeros so that ouptut and input have the same size. \n",
    "    layer = tf.nn.conv2d(input=input, filter=weights, strides=[1,1,1,1], padding='SAME')\n",
    "    \n",
    "    #Adding the created biases.\n",
    "    layer += biases\n",
    "    \n",
    "    #Pooling is used to reduce the image resolution.\n",
    "    if use_pooling:\n",
    "        layer = tf.nn.max_pool(value=layer, ksize=[1,2,2,1], strides=[1,2,2,1], padding='SAME')\n",
    "    \n",
    "    #Using Rectified Linear Unit (ReLU) to add non-linearity.\n",
    "    layer = tf.nn.relu(layer)\n",
    "    \n",
    "    #Returning the layer to be used as input in the further network.\n",
    "    #Returning weights is optional if the weights are to be plotted to see how they look like.\n",
    "    return layer, weights"
   ]
  },
  {
   "cell_type": "markdown",
   "metadata": {},
   "source": [
    "<b><h2>Helper Function to Flatten the Layer"
   ]
  },
  {
   "cell_type": "markdown",
   "metadata": {},
   "source": [
    "The output of Convolutional Layer is fed to the Fully Connected Layer but this cannot be done because the Convolutional Layer produces a 4-dimensional tensor and the Fully-Connected Layer needs a 2-dimensional tensor. This can be overcome by flattening the output of Convolutional Layer. This means, conversting the 4 dimensional output tensor of the Convolutional Layer into a 2 dimentional tensor that can be fed to the Fully Connected Layer. Following is the helper function made for this purpose."
   ]
  },
  {
   "cell_type": "code",
   "execution_count": 11,
   "metadata": {},
   "outputs": [],
   "source": [
    "def flatten_layer(layer):\n",
    "    \n",
    "    #Retrieving Shape of the Input Layer.\n",
    "    shape_of_layer = layer.get_shape()\n",
    "    \n",
    "    #Using a TensorFlow function to retrieve the number of features in the input layer.\n",
    "    number_of_features = shape_of_layer[1:4].num_elements()\n",
    "    \n",
    "    #Reshaping the layer.\n",
    "    #Only the size of second dimension is set which means the size of 1st dimension is set to -1.\n",
    "    #This keeps the total size of the tensor unchanged from reshaping. \n",
    "    falttened_layer = tf.reshape(layer, [-1, number_of_features])\n",
    "    \n",
    "    #Returning the flatteing layer and the total number of features.\n",
    "    return falttened_layer, number_of_features"
   ]
  },
  {
   "cell_type": "markdown",
   "metadata": {},
   "source": [
    "<b><h2>Helper Function to Create a Fully-Connected Layer"
   ]
  },
  {
   "cell_type": "markdown",
   "metadata": {},
   "source": [
    "The following helper function creates a new Fully Connected Layer in the TensorFlow computational graph. It is assumed that the input of the layer is a 2 dimensional tensor thus producing a 2 dimensional tensor on the output."
   ]
  },
  {
   "cell_type": "code",
   "execution_count": 12,
   "metadata": {},
   "outputs": [],
   "source": [
    "def new_fc_layer(input,              # Previous Layer\n",
    "                 number_of_inputs,         # Number of Inputs from previous layer.\n",
    "                 number_of_outputs,        # Number of Outputs.\n",
    "                 use_relu=True):     # Using Rectified Linear Unit(RLU).\n",
    "    \n",
    "    #Creating new weights and biases for the Fully Connected Layer\n",
    "    weights = new_weights(shape=[number_of_inputs, number_of_outputs])\n",
    "    biases = new_biases(length=number_of_outputs)\n",
    "    \n",
    "    #Performing matrix multiplication of the input layer with the weights and then adding biases to the result.\n",
    "    layer = tf.matmul(input, weights) + biases\n",
    "    \n",
    "    #Using Rectified Linear Unit (RLU).\n",
    "    if use_relu:\n",
    "        layer = tf.nn.relu(layer)\n",
    "    return layer"
   ]
  },
  {
   "cell_type": "markdown",
   "metadata": {},
   "source": [
    "<b><h2>Creating Placeholders for Images and their Classes"
   ]
  },
  {
   "cell_type": "markdown",
   "metadata": {},
   "source": [
    "Placeholder Variables are the inputs to the computational graph of TensorFlow that can be changed later. This is known as Feeding the Placeholder Variables. These variables reserve space for the input that can be passed or fed into them later in the execution."
   ]
  },
  {
   "cell_type": "code",
   "execution_count": 13,
   "metadata": {},
   "outputs": [],
   "source": [
    "#Placeholder Variable for the Input Images.\n",
    "#None represents that it can hold an arbitrary number of images,\n",
    "#each of which has the length equals to size_of_image_flattened.\n",
    "input_images = tf.placeholder(tf.float32, shape=[None, size_of_image_flattened])\n",
    "\n",
    "#Reshaping the input images as th convolutional layer expects them into a different shape of a 4 dimensional tensor.\n",
    "input_images_reshaped = tf.reshape(input_images, [-1, size_of_image, size_of_image, nch])\n",
    "\n",
    "#The placeholder variable for the real labels of the input images.\n",
    "real_class_input = tf.placeholder(tf.float32, shape=[None, nc])\n",
    "\n",
    "#Placeholder Variable for the Class Number as Integer.\n",
    "real_class_number = tf.argmax(real_class_input, axis=1)"
   ]
  },
  {
   "cell_type": "markdown",
   "metadata": {},
   "source": [
    "<b><h2><b><h2>Configuring Neural Network"
   ]
  },
  {
   "cell_type": "markdown",
   "metadata": {},
   "source": [
    "The configuration of the entire network is defined here so that the numbers/values can be manipulated or modified easily."
   ]
  },
  {
   "cell_type": "code",
   "execution_count": 14,
   "metadata": {},
   "outputs": [],
   "source": [
    "#Convolutional Layer 1 Configuration\n",
    "fs1 = 5     #Convolutional filters of 5×5 pixels\n",
    "fn1 = 16    #Total Number of filters applied\n",
    "\n",
    "#Convolutional Layer 2 Configuration\n",
    "fs2 = 5     #Convolutional filters of 5×5 pixels\n",
    "fn2 = 36    #Total Number of filters applied\n",
    "\n",
    "#Fully Connected Layer Configuration\n",
    "fcs = 128   #Number of Neurons"
   ]
  },
  {
   "cell_type": "markdown",
   "metadata": {},
   "source": [
    "<b><h2>Creating 1st Convolutional Layer"
   ]
  },
  {
   "cell_type": "code",
   "execution_count": 15,
   "metadata": {},
   "outputs": [],
   "source": [
    "Conv_Layer_1, Conv_Weights_1 = new_conv_layer(input=input_images_reshaped,\n",
    "                                            number_of_channels=nch,\n",
    "                                            size_of_filter=fs1,\n",
    "                                            number_of_filters=fn1,\n",
    "                                            use_pooling=True)"
   ]
  },
  {
   "cell_type": "code",
   "execution_count": 16,
   "metadata": {},
   "outputs": [
    {
     "data": {
      "text/plain": [
       "<tf.Tensor 'Relu:0' shape=(?, 14, 14, 16) dtype=float32>"
      ]
     },
     "execution_count": 16,
     "metadata": {},
     "output_type": "execute_result"
    }
   ],
   "source": [
    "#Checking Shape of the Layer for 1st Convolutional Layer\n",
    "Conv_Layer_1"
   ]
  },
  {
   "cell_type": "code",
   "execution_count": 17,
   "metadata": {},
   "outputs": [
    {
     "data": {
      "text/plain": [
       "<tf.Variable 'Variable:0' shape=(5, 5, 1, 16) dtype=float32_ref>"
      ]
     },
     "execution_count": 17,
     "metadata": {},
     "output_type": "execute_result"
    }
   ],
   "source": [
    "#Checking Shape of the Weights for 1st Convolutional Layer\n",
    "Conv_Weights_1"
   ]
  },
  {
   "cell_type": "markdown",
   "metadata": {},
   "source": [
    "<b><h2>Creating 2nd Convolutional Layer"
   ]
  },
  {
   "cell_type": "code",
   "execution_count": 18,
   "metadata": {},
   "outputs": [],
   "source": [
    "Conv_Layer_2, Conv_Weights_2 = new_conv_layer(input=Conv_Layer_1,\n",
    "                                            number_of_channels=fn1,\n",
    "                                            size_of_filter=fs2,\n",
    "                                            number_of_filters=fn2,\n",
    "                                            use_pooling=True)"
   ]
  },
  {
   "cell_type": "code",
   "execution_count": 19,
   "metadata": {},
   "outputs": [
    {
     "data": {
      "text/plain": [
       "<tf.Tensor 'Relu_1:0' shape=(?, 7, 7, 36) dtype=float32>"
      ]
     },
     "execution_count": 19,
     "metadata": {},
     "output_type": "execute_result"
    }
   ],
   "source": [
    "#Checking Shape of the Layer for 2nd Convolutional Layer\n",
    "Conv_Layer_2"
   ]
  },
  {
   "cell_type": "code",
   "execution_count": 20,
   "metadata": {},
   "outputs": [
    {
     "data": {
      "text/plain": [
       "<tf.Variable 'Variable_2:0' shape=(5, 5, 16, 36) dtype=float32_ref>"
      ]
     },
     "execution_count": 20,
     "metadata": {},
     "output_type": "execute_result"
    }
   ],
   "source": [
    "#Checking Shape of the Weights for 2nd Convolutional Layer\n",
    "Conv_Weights_2"
   ]
  },
  {
   "cell_type": "markdown",
   "metadata": {},
   "source": [
    "<b><h2>Flattening the Layer"
   ]
  },
  {
   "cell_type": "markdown",
   "metadata": {},
   "source": [
    "Converting 4-dimensional tensor (output of 2nd Convolutional Layer)\n",
    "into 2-dimensional tensor (input to the Fully-Connected Layer)"
   ]
  },
  {
   "cell_type": "code",
   "execution_count": 21,
   "metadata": {},
   "outputs": [],
   "source": [
    "Flattened_Layer, number_of_features = flatten_layer(Conv_Layer_2)"
   ]
  },
  {
   "cell_type": "code",
   "execution_count": 22,
   "metadata": {},
   "outputs": [
    {
     "data": {
      "text/plain": [
       "<tf.Tensor 'Reshape_1:0' shape=(?, 1764) dtype=float32>"
      ]
     },
     "execution_count": 22,
     "metadata": {},
     "output_type": "execute_result"
    }
   ],
   "source": [
    "#Checking Shape of the Flattened Layer\n",
    "Flattened_Layer"
   ]
  },
  {
   "cell_type": "code",
   "execution_count": 23,
   "metadata": {},
   "outputs": [
    {
     "data": {
      "text/plain": [
       "1764"
      ]
     },
     "execution_count": 23,
     "metadata": {},
     "output_type": "execute_result"
    }
   ],
   "source": [
    "#Checking total number of features\n",
    "number_of_features"
   ]
  },
  {
   "cell_type": "markdown",
   "metadata": {},
   "source": [
    "<b><h2>Creating 1st Fully Connected Layer"
   ]
  },
  {
   "cell_type": "markdown",
   "metadata": {},
   "source": [
    "Feeding the output of Flattened Layer to create 1st Fully Connected Layer with specified number of Neurons."
   ]
  },
  {
   "cell_type": "code",
   "execution_count": 24,
   "metadata": {},
   "outputs": [],
   "source": [
    "FC_1 = new_fc_layer(input=Flattened_Layer,\n",
    "                    number_of_inputs=number_of_features,\n",
    "                    number_of_outputs=fcs,\n",
    "                    use_relu=True)"
   ]
  },
  {
   "cell_type": "code",
   "execution_count": 25,
   "metadata": {},
   "outputs": [
    {
     "data": {
      "text/plain": [
       "<tf.Tensor 'Relu_2:0' shape=(?, 128) dtype=float32>"
      ]
     },
     "execution_count": 25,
     "metadata": {},
     "output_type": "execute_result"
    }
   ],
   "source": [
    "#Checking Shape of the 1st Fully Connected Layer\n",
    "FC_1"
   ]
  },
  {
   "cell_type": "markdown",
   "metadata": {},
   "source": [
    "<b><h2>Creating 2nd Fully Connected Layer"
   ]
  },
  {
   "cell_type": "code",
   "execution_count": 26,
   "metadata": {},
   "outputs": [],
   "source": [
    "FC_2 = new_fc_layer(input=FC_1,\n",
    "                    number_of_inputs=fcs,\n",
    "                    number_of_outputs=nc,\n",
    "                    use_relu=False)"
   ]
  },
  {
   "cell_type": "code",
   "execution_count": 27,
   "metadata": {},
   "outputs": [
    {
     "data": {
      "text/plain": [
       "<tf.Tensor 'add_3:0' shape=(?, 10) dtype=float32>"
      ]
     },
     "execution_count": 27,
     "metadata": {},
     "output_type": "execute_result"
    }
   ],
   "source": [
    "#Checking Shape of the 1st Fully Connected Layer\n",
    "FC_2"
   ]
  },
  {
   "cell_type": "markdown",
   "metadata": {},
   "source": [
    "<b><h2>Predicted Class"
   ]
  },
  {
   "cell_type": "markdown",
   "metadata": {},
   "source": [
    "The Second Fully Connected Layer predicts the class of input images. The estimates are rough and difficult to interpret, therefore, they are normalized using the softmax fuction."
   ]
  },
  {
   "cell_type": "code",
   "execution_count": 28,
   "metadata": {},
   "outputs": [],
   "source": [
    "pred_class = tf.nn.softmax(FC_2)\n",
    "\n",
    "#The index of the largest element is the class number of that image\n",
    "pred_class_number = tf.argmax(pred_class, axis=1)"
   ]
  },
  {
   "cell_type": "markdown",
   "metadata": {},
   "source": [
    "<b><h2>Calculating Cost"
   ]
  },
  {
   "cell_type": "markdown",
   "metadata": {},
   "source": [
    "To make the classification model better, the variables of all network layers are updated. But first the performance of the model must be measured by comparing the predicted and real classes of the images.\n",
    "\n",
    "The performance measure of classification used in this tutorial is Cross-Entropy. The value is zero if the predicted and real classes are the same. the purpose of optimization is to change the network layer variables to make the output of cross-entropy as close to zero as possible."
   ]
  },
  {
   "cell_type": "code",
   "execution_count": 29,
   "metadata": {},
   "outputs": [
    {
     "name": "stdout",
     "output_type": "stream",
     "text": [
      "WARNING:tensorflow:From <ipython-input-29-249d5837512f>:1: softmax_cross_entropy_with_logits (from tensorflow.python.ops.nn_ops) is deprecated and will be removed in a future version.\n",
      "Instructions for updating:\n",
      "\n",
      "Future major versions of TensorFlow will allow gradients to flow\n",
      "into the labels input on backprop by default.\n",
      "\n",
      "See tf.nn.softmax_cross_entropy_with_logits_v2.\n",
      "\n"
     ]
    }
   ],
   "source": [
    "cross_entropy = tf.nn.softmax_cross_entropy_with_logits(logits=FC_2, labels=real_class_input)\n",
    "\n",
    "#Taking average of the cross-entropy of all the image classifications to get a single scalor value\n",
    "cost = tf.reduce_mean(cross_entropy)"
   ]
  },
  {
   "cell_type": "markdown",
   "metadata": {},
   "source": [
    "<b><h2>Optimization Method"
   ]
  },
  {
   "cell_type": "markdown",
   "metadata": {},
   "source": [
    "The cost is now minimized by creating an optimizer. In this tutorial, Adam Optimizer is used which is an advanced form of the Gradient Descent Optimizer."
   ]
  },
  {
   "cell_type": "code",
   "execution_count": 30,
   "metadata": {},
   "outputs": [],
   "source": [
    "optimizer = tf.train.AdamOptimizer(learning_rate=1e-4).minimize(cost)"
   ]
  },
  {
   "cell_type": "markdown",
   "metadata": {},
   "source": [
    "<b><h2>Calculating Accuracy of the Model"
   ]
  },
  {
   "cell_type": "code",
   "execution_count": 31,
   "metadata": {},
   "outputs": [],
   "source": [
    "#Boolean vector to determine if the predicted and real classes of all mages are same.\n",
    "correct_prediction = tf.equal(pred_class_number, real_class_number)\n",
    "\n",
    "#Converting boolean vector into floating data type (so that True becomes 1 and False becomes 0) and\n",
    "#Calculating the average of all numbers to determine the classification accuracy.\n",
    "accuracy = tf.reduce_mean(tf.cast(correct_prediction, tf.float32))"
   ]
  },
  {
   "cell_type": "markdown",
   "metadata": {},
   "source": [
    "<b><h2>TensorFlow Run"
   ]
  },
  {
   "cell_type": "markdown",
   "metadata": {},
   "source": [
    "Once the TensorFlow graph is created, a new session is created for its execution."
   ]
  },
  {
   "cell_type": "code",
   "execution_count": 32,
   "metadata": {},
   "outputs": [],
   "source": [
    "session = tf.Session()\n",
    "\n",
    "#The variables of weights and biases should be initialized before optimization\n",
    "session.run(tf.global_variables_initializer())"
   ]
  },
  {
   "cell_type": "markdown",
   "metadata": {},
   "source": [
    "<b><h2>Performing optimization iterations"
   ]
  },
  {
   "cell_type": "markdown",
   "metadata": {},
   "source": [
    "The training set has 55,000 images and it takes a long time to calculate the gradient using all images. Therefore, small batch of images are used for each iteration of the optimizer."
   ]
  },
  {
   "cell_type": "code",
   "execution_count": 33,
   "metadata": {},
   "outputs": [],
   "source": [
    "train_batch_size = 64"
   ]
  },
  {
   "cell_type": "markdown",
   "metadata": {},
   "source": [
    "Below is the helper function to perform a number of iterations for optimization to improve the network layer variables. Each iteration selects a new batch of data from the training setand then the optimizer is executed by the TensorFlow using these samples. The progress is printed after every 100 iterations."
   ]
  },
  {
   "cell_type": "code",
   "execution_count": 34,
   "metadata": {},
   "outputs": [],
   "source": [
    "#Counter for number of iterations performed so far\n",
    "total_iterations = 0\n",
    "\n",
    "def optimize(num_iterations):\n",
    "    \n",
    "    # To ensure that the global variable is updated rather than a local copy of the variable.\n",
    "    global total_iterations\n",
    "    \n",
    "    #Recording the starting time of the optimization.\n",
    "    start_time = time.time()\n",
    "    \n",
    "    for i in range(total_iterations, total_iterations+num_iterations):\n",
    "        \n",
    "        #x_batch holds batch of images for each iteration\n",
    "        #y_true_batch holds their real classes\n",
    "        x_batch, y_true_batch = data.train.next_batch(train_batch_size)\n",
    "        \n",
    "        #Putting the batch into a dict for the placeholder variables.\n",
    "        feed_dict_train = {input_images:x_batch, real_class_input:y_true_batch}\n",
    "        \n",
    "        #Running the optimizer using the current batch of the training data.\n",
    "        session.run(optimizer, feed_dict=feed_dict_train)\n",
    "        \n",
    "        #Printing the optimization status after every 100 iterations.\n",
    "        if i % 100 == 0:\n",
    "            \n",
    "            #Calculating accuracy for each batch and Printing the Message.\n",
    "            acc = session.run(accuracy, feed_dict=feed_dict_train)\n",
    "            print(\"Iteration: {0:>6}, Accuracy: {1:>6.1%}\".format(i+1, acc))\n",
    "            \n",
    "    #Updating the performed number of iterations.\n",
    "    total_iterations += num_iterations\n",
    "    \n",
    "    #Recording the ending time of the optimization.\n",
    "    end_time = time.time()\n",
    "    \n",
    "    #Recording the time difference and priniting how much time was taken to execute or training the model.\n",
    "    time_dif = end_time - start_time\n",
    "    print(\"Time Taken: \" + str(timedelta(seconds=int(round(time_dif)))))"
   ]
  },
  {
   "cell_type": "markdown",
   "metadata": {},
   "source": [
    "<b><h2>Helper Function for Plotting a few Errors"
   ]
  },
  {
   "cell_type": "markdown",
   "metadata": {},
   "source": [
    "Plotting images that were not accurately classified."
   ]
  },
  {
   "cell_type": "code",
   "execution_count": 35,
   "metadata": {},
   "outputs": [],
   "source": [
    "def plot_example_errors(predicted_class, correct):\n",
    "    \n",
    "    #Images not correct are stored in variable incorrect\n",
    "    incorrect = (correct == False)\n",
    "    \n",
    "    #Retrieving incorrect images from the test set\n",
    "    images = data.test.images[incorrect]\n",
    "    \n",
    "    #Retrieving Predicted classes of incorrect images\n",
    "    predicted_class = predicted_class[incorrect]\n",
    "    \n",
    "    #Retrieving Real classes of incorrect images\n",
    "    real_class = class_number[incorrect]\n",
    "    \n",
    "    #Plotting Incorrect Images along with their real and predicted class\n",
    "    plot_images(images=images[0:9], real_class=real_class[0:9], predicted_class=predicted_class[0:9])"
   ]
  },
  {
   "cell_type": "markdown",
   "metadata": {},
   "source": [
    "<b><h2>Helper Function for Plotting Confusion Matrix"
   ]
  },
  {
   "cell_type": "code",
   "execution_count": 36,
   "metadata": {},
   "outputs": [],
   "source": [
    "def plot_confusion_matrix(predicted_class):\n",
    "    \n",
    "    #Retrieving True Classes of Test Set\n",
    "    real_class = class_number\n",
    "    \n",
    "    #Using sklearn to get the confusion matrix and printing it\n",
    "    cm = confusion_matrix(y_true=real_class, y_pred=predicted_class)\n",
    "    print(cm)\n",
    "    plt.matshow(cm)\n",
    "    plt.colorbar()\n",
    "    tick_marks = np.arange(nc)\n",
    "    plt.xticks(tick_marks, range(nc))\n",
    "    plt.yticks(tick_marks, range(nc))\n",
    "    plt.xlabel('Predicted')\n",
    "    plt.ylabel('True')\n",
    "    plt.show()"
   ]
  },
  {
   "cell_type": "markdown",
   "metadata": {},
   "source": [
    "<b><h2>Helper Function for Printing Accuracy of the Model on Test Set"
   ]
  },
  {
   "cell_type": "code",
   "execution_count": 37,
   "metadata": {},
   "outputs": [],
   "source": [
    "#Splitting the Test Set into small batches\n",
    "test_batch_size = 256\n",
    "def print_test_accuracy(show_example_errors=False, show_confusion_matrix=False):\n",
    "    \n",
    "    #Number of Images in the Test Set\n",
    "    num_test = len(data.test.images)\n",
    "    \n",
    "    #Allocating an array for the predicted classes that will be calculated and filled later\n",
    "    predicted_class = np.zeros(shape=num_test, dtype=np.int)\n",
    "    \n",
    "    #Calculating the predicted classes for the batches\n",
    "    i = 0\n",
    "    while i < num_test:\n",
    "        j = min(i+test_batch_size, num_test)\n",
    "        images = data.test.images[i:j, :]\n",
    "        labels = data.test.labels[i:j, :]\n",
    "        feed_dict = {input_images:images, real_class_input:labels}\n",
    "        predicted_class[i:j] = session.run(pred_class_number, feed_dict=feed_dict)\n",
    "        i = j\n",
    "    #Retrieving true classes of the test set\n",
    "    real_class = class_number\n",
    "    \n",
    "    #Calculating Total Number of Images that are correctly classified\n",
    "    correct = (real_class == predicted_class)\n",
    "    correct_sum = correct.sum()\n",
    "    \n",
    "    #Calculating Accuracy of the Test Set and Printing it\n",
    "    acc = float(correct_sum) / num_test\n",
    "    print(\"Accuracy on Test Set: {0:.1%} ({1} / {2})\".format(acc, correct_sum, num_test))\n",
    "    \n",
    "    #Plotting a few incorrectly classified images\n",
    "    if show_example_errors:\n",
    "        print(\"Example errors:\")\n",
    "        plot_example_errors(predicted_class=predicted_class, correct=correct)\n",
    "    \n",
    "    #Plotting Confusion Matrix of test set\n",
    "    if show_confusion_matrix:\n",
    "        print(\"Confusion Matrix:\")\n",
    "        plot_confusion_matrix(predicted_class=predicted_class)"
   ]
  },
  {
   "cell_type": "markdown",
   "metadata": {},
   "source": [
    "<b><h2>Performance of Test Set before Optimization"
   ]
  },
  {
   "cell_type": "code",
   "execution_count": 38,
   "metadata": {},
   "outputs": [
    {
     "name": "stdout",
     "output_type": "stream",
     "text": [
      "Accuracy on Test Set: 10.0% (1000 / 10000)\n"
     ]
    }
   ],
   "source": [
    "print_test_accuracy()"
   ]
  },
  {
   "cell_type": "markdown",
   "metadata": {},
   "source": [
    "<b><h2>Performance after 1 optimization iteration"
   ]
  },
  {
   "cell_type": "code",
   "execution_count": 39,
   "metadata": {},
   "outputs": [
    {
     "name": "stdout",
     "output_type": "stream",
     "text": [
      "Iteration:      1, Accuracy:   7.8%\n",
      "Time Taken: 0:00:01\n"
     ]
    }
   ],
   "source": [
    "optimize(num_iterations=1)"
   ]
  },
  {
   "cell_type": "code",
   "execution_count": 40,
   "metadata": {},
   "outputs": [
    {
     "name": "stdout",
     "output_type": "stream",
     "text": [
      "Accuracy on Test Set: 9.8% (983 / 10000)\n"
     ]
    }
   ],
   "source": [
    "print_test_accuracy()"
   ]
  },
  {
   "cell_type": "markdown",
   "metadata": {},
   "source": [
    "<b><h2>Performance after 100 optimization iterations"
   ]
  },
  {
   "cell_type": "code",
   "execution_count": 41,
   "metadata": {},
   "outputs": [
    {
     "name": "stdout",
     "output_type": "stream",
     "text": [
      "Time Taken: 0:00:30\n"
     ]
    }
   ],
   "source": [
    "optimize(num_iterations=99)"
   ]
  },
  {
   "cell_type": "code",
   "execution_count": 42,
   "metadata": {},
   "outputs": [
    {
     "name": "stdout",
     "output_type": "stream",
     "text": [
      "Accuracy on Test Set: 55.2% (5521 / 10000)\n",
      "Example errors:\n"
     ]
    },
    {
     "data": {
      "image/png": "[encoded data removed]",
      "text/plain": [
       "<Figure size 432x288 with 9 Axes>"
      ]
     },
     "metadata": {},
     "output_type": "display_data"
    }
   ],
   "source": [
    "print_test_accuracy(show_example_errors=True)"
   ]
  },
  {
   "cell_type": "markdown",
   "metadata": {},
   "source": [
    "<b><h2>Performance after 1000 optimization iterations"
   ]
  },
  {
   "cell_type": "code",
   "execution_count": 43,
   "metadata": {},
   "outputs": [
    {
     "name": "stdout",
     "output_type": "stream",
     "text": [
      "Iteration:    101, Accuracy:  59.4%\n",
      "Iteration:    201, Accuracy:  64.1%\n",
      "Iteration:    301, Accuracy:  78.1%\n",
      "Iteration:    401, Accuracy:  78.1%\n",
      "Iteration:    501, Accuracy:  75.0%\n",
      "Iteration:    601, Accuracy:  84.4%\n",
      "Iteration:    701, Accuracy:  76.6%\n",
      "Iteration:    801, Accuracy:  75.0%\n",
      "Iteration:    901, Accuracy:  81.2%\n",
      "Time Taken: 0:04:16\n"
     ]
    }
   ],
   "source": [
    "optimize(num_iterations=900)"
   ]
  },
  {
   "cell_type": "code",
   "execution_count": 44,
   "metadata": {},
   "outputs": [
    {
     "name": "stdout",
     "output_type": "stream",
     "text": [
      "Accuracy on Test Set: 76.4% (7644 / 10000)\n",
      "Example errors:\n"
     ]
    },
    {
     "data": {
      "image/png": "[encoded data removed]",
      "text/plain": [
       "<Figure size 432x288 with 9 Axes>"
      ]
     },
     "metadata": {},
     "output_type": "display_data"
    }
   ],
   "source": [
    "print_test_accuracy(show_example_errors=True)"
   ]
  },
  {
   "cell_type": "markdown",
   "metadata": {},
   "source": [
    "<b><h2>Performance after 10,000 optimization iterations"
   ]
  },
  {
   "cell_type": "code",
   "execution_count": 45,
   "metadata": {},
   "outputs": [
    {
     "name": "stdout",
     "output_type": "stream",
     "text": [
      "Iteration:   1001, Accuracy:  81.2%\n",
      "Iteration:   1101, Accuracy:  87.5%\n",
      "Iteration:   1201, Accuracy:  79.7%\n",
      "Iteration:   1301, Accuracy:  79.7%\n",
      "Iteration:   1401, Accuracy:  84.4%\n",
      "Iteration:   1501, Accuracy:  81.2%\n",
      "Iteration:   1601, Accuracy:  82.8%\n",
      "Iteration:   1701, Accuracy:  85.9%\n",
      "Iteration:   1801, Accuracy:  85.9%\n",
      "Iteration:   1901, Accuracy:  81.2%\n",
      "Iteration:   2001, Accuracy:  82.8%\n",
      "Iteration:   2101, Accuracy:  71.9%\n",
      "Iteration:   2201, Accuracy:  79.7%\n",
      "Iteration:   2301, Accuracy:  78.1%\n",
      "Iteration:   2401, Accuracy:  81.2%\n",
      "Iteration:   2501, Accuracy:  93.8%\n",
      "Iteration:   2601, Accuracy:  76.6%\n",
      "Iteration:   2701, Accuracy:  92.2%\n",
      "Iteration:   2801, Accuracy:  78.1%\n",
      "Iteration:   2901, Accuracy:  81.2%\n",
      "Iteration:   3001, Accuracy:  85.9%\n",
      "Iteration:   3101, Accuracy:  75.0%\n",
      "Iteration:   3201, Accuracy:  87.5%\n",
      "Iteration:   3301, Accuracy:  84.4%\n",
      "Iteration:   3401, Accuracy:  85.9%\n",
      "Iteration:   3501, Accuracy:  82.8%\n",
      "Iteration:   3601, Accuracy:  92.2%\n",
      "Iteration:   3701, Accuracy:  78.1%\n",
      "Iteration:   3801, Accuracy:  81.2%\n",
      "Iteration:   3901, Accuracy:  87.5%\n",
      "Iteration:   4001, Accuracy:  82.8%\n",
      "Iteration:   4101, Accuracy:  89.1%\n",
      "Iteration:   4201, Accuracy:  92.2%\n",
      "Iteration:   4301, Accuracy:  82.8%\n",
      "Iteration:   4401, Accuracy:  90.6%\n",
      "Iteration:   4501, Accuracy:  84.4%\n",
      "Iteration:   4601, Accuracy:  84.4%\n",
      "Iteration:   4701, Accuracy:  84.4%\n",
      "Iteration:   4801, Accuracy:  85.9%\n",
      "Iteration:   4901, Accuracy:  84.4%\n",
      "Iteration:   5001, Accuracy:  90.6%\n",
      "Iteration:   5101, Accuracy:  85.9%\n",
      "Iteration:   5201, Accuracy:  87.5%\n",
      "Iteration:   5301, Accuracy:  85.9%\n",
      "Iteration:   5401, Accuracy:  89.1%\n",
      "Iteration:   5501, Accuracy:  87.5%\n",
      "Iteration:   5601, Accuracy:  96.9%\n",
      "Iteration:   5701, Accuracy:  84.4%\n",
      "Iteration:   5801, Accuracy:  87.5%\n",
      "Iteration:   5901, Accuracy:  89.1%\n",
      "Iteration:   6001, Accuracy:  81.2%\n",
      "Iteration:   6101, Accuracy:  95.3%\n",
      "Iteration:   6201, Accuracy:  87.5%\n",
      "Iteration:   6301, Accuracy:  81.2%\n",
      "Iteration:   6401, Accuracy:  82.8%\n",
      "Iteration:   6501, Accuracy:  87.5%\n",
      "Iteration:   6601, Accuracy:  85.9%\n",
      "Iteration:   6701, Accuracy:  82.8%\n",
      "Iteration:   6801, Accuracy:  87.5%\n",
      "Iteration:   6901, Accuracy:  84.4%\n",
      "Iteration:   7001, Accuracy:  92.2%\n",
      "Iteration:   7101, Accuracy:  93.8%\n",
      "Iteration:   7201, Accuracy:  87.5%\n",
      "Iteration:   7301, Accuracy:  81.2%\n",
      "Iteration:   7401, Accuracy:  81.2%\n",
      "Iteration:   7501, Accuracy:  90.6%\n",
      "Iteration:   7601, Accuracy:  84.4%\n",
      "Iteration:   7701, Accuracy:  87.5%\n",
      "Iteration:   7801, Accuracy:  90.6%\n",
      "Iteration:   7901, Accuracy:  90.6%\n",
      "Iteration:   8001, Accuracy:  84.4%\n",
      "Iteration:   8101, Accuracy:  90.6%\n",
      "Iteration:   8201, Accuracy:  93.8%\n",
      "Iteration:   8301, Accuracy:  87.5%\n",
      "Iteration:   8401, Accuracy:  90.6%\n",
      "Iteration:   8501, Accuracy:  85.9%\n",
      "Iteration:   8601, Accuracy:  89.1%\n",
      "Iteration:   8701, Accuracy:  89.1%\n",
      "Iteration:   8801, Accuracy:  89.1%\n",
      "Iteration:   8901, Accuracy:  85.9%\n",
      "Iteration:   9001, Accuracy:  89.1%\n",
      "Iteration:   9101, Accuracy:  82.8%\n",
      "Iteration:   9201, Accuracy:  89.1%\n",
      "Iteration:   9301, Accuracy:  87.5%\n",
      "Iteration:   9401, Accuracy:  89.1%\n",
      "Iteration:   9501, Accuracy:  89.1%\n",
      "Iteration:   9601, Accuracy:  85.9%\n",
      "Iteration:   9701, Accuracy:  89.1%\n",
      "Iteration:   9801, Accuracy:  87.5%\n",
      "Iteration:   9901, Accuracy:  82.8%\n",
      "Time Taken: 0:42:13\n"
     ]
    }
   ],
   "source": [
    "optimize(num_iterations=9000)"
   ]
  },
  {
   "cell_type": "code",
   "execution_count": 46,
   "metadata": {},
   "outputs": [
    {
     "name": "stdout",
     "output_type": "stream",
     "text": [
      "Accuracy on Test Set: 87.7% (8774 / 10000)\n",
      "Example errors:\n"
     ]
    },
    {
     "data": {
      "image/png": "[encoded data removed]",
      "text/plain": [
       "<Figure size 432x288 with 9 Axes>"
      ]
     },
     "metadata": {},
     "output_type": "display_data"
    },
    {
     "name": "stdout",
     "output_type": "stream",
     "text": [
      "Confusion Matrix:\n",
      "[[860   0  15  23   5   1  86   0  10   0]\n",
      " [  2 972   1  16   5   0   3   0   1   0]\n",
      " [ 15   1 824   9 103   0  46   0   2   0]\n",
      " [ 28  13  13 871  34   0  38   0   3   0]\n",
      " [  2   1  85  33 826   0  51   0   2   0]\n",
      " [  0   0   0   0   0 961   1  28   1   9]\n",
      " [168   1  97  22 101   1 600   0  10   0]\n",
      " [  0   0   0   0   0  20   0 961   0  19]\n",
      " [  4   2   8   3   5   1   2   5 970   0]\n",
      " [  0   0   0   0   0   9   1  61   0 929]]\n"
     ]
    },
    {
     "data": {
      "image/png": "[encoded data removed]",
      "text/plain": [
       "<Figure size 288x288 with 2 Axes>"
      ]
     },
     "metadata": {},
     "output_type": "display_data"
    }
   ],
   "source": [
    "print_test_accuracy(show_example_errors=True, show_confusion_matrix=True)"
   ]
  },
  {
   "cell_type": "markdown",
   "metadata": {},
   "source": [
    "<b><h2>Visualizing Weights and Layers"
   ]
  },
  {
   "cell_type": "code",
   "execution_count": 47,
   "metadata": {},
   "outputs": [],
   "source": [
    "#Helper Function for Plotting Convolutional Weights\n",
    "def plot_conv_weights(weights, input_channel=0):\n",
    "    w = session.run(weights)\n",
    "    w_min = np.min(w)\n",
    "    w_max = np.max(w)\n",
    "    num_filters = w.shape[3]\n",
    "    num_grids = math.ceil(math.sqrt(num_filters))\n",
    "    fig, axes = plt.subplots(num_grids, num_grids)\n",
    "    for i, ax in enumerate(axes.flat):\n",
    "        if i<num_filters:\n",
    "            img = w[:, :, input_channel, i]\n",
    "            ax.imshow(img, vmin=w_min, vmax=w_max, interpolation='nearest', cmap='seismic')\n",
    "        ax.set_xticks([])\n",
    "        ax.set_yticks([])\n",
    "    plt.show()"
   ]
  },
  {
   "cell_type": "code",
   "execution_count": 48,
   "metadata": {},
   "outputs": [],
   "source": [
    "#Helper-function for plotting the output of a convolutional layer\n",
    "def plot_conv_layer(layer, image):\n",
    "    feed_dict = {input_images: [image]}\n",
    "    values = session.run(layer, feed_dict=feed_dict)\n",
    "    num_filters = values.shape[3]\n",
    "    num_grids = math.ceil(math.sqrt(num_filters))\n",
    "    fig, axes = plt.subplots(num_grids, num_grids)\n",
    "    for i, ax in enumerate(axes.flat):\n",
    "        if i<num_filters:\n",
    "            img = values[0, :, :, i]\n",
    "            ax.imshow(img, interpolation='nearest', cmap='binary')\n",
    "        ax.set_xticks([])\n",
    "        ax.set_yticks([])\n",
    "    plt.show()"
   ]
  },
  {
   "cell_type": "markdown",
   "metadata": {},
   "source": [
    "<b><h2>Input Images"
   ]
  },
  {
   "cell_type": "code",
   "execution_count": 49,
   "metadata": {},
   "outputs": [],
   "source": [
    "#Helper Function to plot a single image\n",
    "def plot_image(image):\n",
    "    plt.imshow(image.reshape(shape_of_image), interpolation='nearest', cmap='binary')\n",
    "    plt.show()"
   ]
  },
  {
   "cell_type": "code",
   "execution_count": 50,
   "metadata": {},
   "outputs": [
    {
     "data": {
      "image/png": "[encoded data removed]",
      "text/plain": [
       "<Figure size 432x288 with 1 Axes>"
      ]
     },
     "metadata": {},
     "output_type": "display_data"
    }
   ],
   "source": [
    "#Plotting Image Example 1\n",
    "image1 = data.test.images[0]\n",
    "plot_image(image1)"
   ]
  },
  {
   "cell_type": "code",
   "execution_count": 51,
   "metadata": {},
   "outputs": [
    {
     "data": {
      "image/png": "[encoded data removed]",
      "text/plain": [
       "<Figure size 432x288 with 1 Axes>"
      ]
     },
     "metadata": {},
     "output_type": "display_data"
    }
   ],
   "source": [
    "#Plotting Image Example 2\n",
    "image2 = data.test.images[15]\n",
    "plot_image(image2)"
   ]
  },
  {
   "cell_type": "markdown",
   "metadata": {},
   "source": [
    "<b><h2>Plotting weights and layers"
   ]
  },
  {
   "cell_type": "code",
   "execution_count": 52,
   "metadata": {},
   "outputs": [
    {
     "data": {
      "image/png": "[encoded data removed]",
      "text/plain": [
       "<Figure size 432x288 with 16 Axes>"
      ]
     },
     "metadata": {},
     "output_type": "display_data"
    }
   ],
   "source": [
    "plot_conv_weights(weights=Conv_Weights_1)"
   ]
  },
  {
   "cell_type": "code",
   "execution_count": 53,
   "metadata": {},
   "outputs": [
    {
     "data": {
      "image/png": "[encoded data removed]",
      "text/plain": [
       "<Figure size 432x288 with 16 Axes>"
      ]
     },
     "metadata": {},
     "output_type": "display_data"
    }
   ],
   "source": [
    "plot_conv_layer(layer=Conv_Layer_1, image=image1)"
   ]
  },
  {
   "cell_type": "code",
   "execution_count": 54,
   "metadata": {},
   "outputs": [
    {
     "data": {
      "image/png": "[encoded data removed]",
      "text/plain": [
       "<Figure size 432x288 with 16 Axes>"
      ]
     },
     "metadata": {},
     "output_type": "display_data"
    }
   ],
   "source": [
    "plot_conv_layer(layer=Conv_Layer_1, image=image2)"
   ]
  },
  {
   "cell_type": "code",
   "execution_count": 55,
   "metadata": {},
   "outputs": [
    {
     "data": {
      "image/png": "[encoded data removed]",
      "text/plain": [
       "<Figure size 432x288 with 36 Axes>"
      ]
     },
     "metadata": {},
     "output_type": "display_data"
    }
   ],
   "source": [
    "plot_conv_weights(weights=Conv_Weights_2, input_channel=0)"
   ]
  },
  {
   "cell_type": "code",
   "execution_count": 56,
   "metadata": {},
   "outputs": [
    {
     "data": {
      "image/png": "[encoded data removed]",
      "text/plain": [
       "<Figure size 432x288 with 36 Axes>"
      ]
     },
     "metadata": {},
     "output_type": "display_data"
    }
   ],
   "source": [
    "plot_conv_weights(weights=Conv_Weights_2, input_channel=1)"
   ]
  },
  {
   "cell_type": "code",
   "execution_count": 57,
   "metadata": {},
   "outputs": [
    {
     "data": {
      "image/png": "[encoded data removed]",
      "text/plain": [
       "<Figure size 432x288 with 36 Axes>"
      ]
     },
     "metadata": {},
     "output_type": "display_data"
    }
   ],
   "source": [
    "plot_conv_layer(layer=Conv_Layer_2, image=image1)"
   ]
  },
  {
   "cell_type": "code",
   "execution_count": 58,
   "metadata": {},
   "outputs": [
    {
     "data": {
      "image/png": "[encoded data removed]",
      "text/plain": [
       "<Figure size 432x288 with 36 Axes>"
      ]
     },
     "metadata": {},
     "output_type": "display_data"
    }
   ],
   "source": [
    "plot_conv_layer(layer=Conv_Layer_2, image=image2)"
   ]
  },
  {
   "cell_type": "markdown",
   "metadata": {},
   "source": [
    "<b><h2>Closing Tensorflow Session"
   ]
  },
  {
   "cell_type": "code",
   "execution_count": 59,
   "metadata": {},
   "outputs": [],
   "source": [
    "session.close()"
   ]
  },
  {
   "cell_type": "markdown",
   "metadata": {},
   "source": [
    "<b><h1><center>!---The End---!"
   ]
  }
 ],
 "metadata": {
  "kernelspec": {
   "display_name": "Python 3",
   "language": "python",
   "name": "python3"
  },
  "language_info": {
   "codemirror_mode": {
    "name": "ipython",
    "version": 3
   },
   "file_extension": ".py",
   "mimetype": "text/x-python",
   "name": "python",
   "nbconvert_exporter": "python",
   "pygments_lexer": "ipython3",
   "version": "3.5.5"
  }
 },
 "nbformat": 4,
 "nbformat_minor": 2
}
